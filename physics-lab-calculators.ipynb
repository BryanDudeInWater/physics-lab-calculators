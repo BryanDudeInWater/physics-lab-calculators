{
 "cells": [
  {
   "cell_type": "code",
   "execution_count": 12,
   "metadata": {},
   "outputs": [
    {
     "name": "stdout",
     "output_type": "stream",
     "text": [
      "Choose the appropriate equation for the situation:\n",
      "1. Fractional Error\n",
      "2. Percent Error\n",
      "3. Percent Difference\n",
      "4. Standard Deviation\n",
      "Enter an option:2\n",
      "Enter expected value:5\n",
      "Enter accepted value:9\n",
      "44.444%\n"
     ]
    }
   ],
   "source": [
    "''' Discrepancy Calculator '''\n",
    "\n",
    "# This function calculates fractional error\n",
    "def fractionalError(expected, accepted):\n",
    "    return abs(float(expected) - float(accepted))/float(accepted)\n",
    "\n",
    "# This function calculates percent error\n",
    "def percentError(expected, accepted):\n",
    "    return str(round(abs(float(expected) - float(accepted))/float(accepted)*100,3)) + '%'\n",
    "\n",
    "# This function calculates percent difference\n",
    "def percentDifference(expected, average):\n",
    "    return abs(float(expected))/float(average)*100\n",
    "\n",
    "# This function calculates standard deviation\n",
    "def standardDeviation(expected, average):\n",
    "    return abs(float(expected))/float(average)*100\n",
    "\n",
    "print(\"Choose the appropriate equation for the situation:\")\n",
    "print(\"1. Fractional Error\")\n",
    "print(\"2. Percent Error\")\n",
    "print(\"3. Percent Difference\")\n",
    "print(\"4. Standard Deviation\")\n",
    "\n",
    "option = input(\"Enter an option:\")\n",
    "\n",
    "if option == '1':\n",
    "    exp = input(\"Enter expected value:\")\n",
    "    acpt = input(\"Enter accepted value:\")\n",
    "    print(fractionalError(exp, acpt))\n",
    "elif option == '2':\n",
    "    exp = input(\"Enter expected value:\")\n",
    "    acpt = input(\"Enter accepted value:\")\n",
    "    print(percentError(exp, acpt))\n",
    "elif option == '3':\n",
    "    exp = input(\"Enter expected value:\")\n",
    "    avg = input(\"Enter average value:\")\n",
    "    print(percentError(exp, avg))\n",
    "elif option == '4':\n",
    "    print(\"Not yet built\")\n",
    "else:\n",
    "    print(\"Invalid input\")"
   ]
  },
  {
   "cell_type": "code",
   "execution_count": 5,
   "metadata": {},
   "outputs": [
    {
     "data": {
      "text/plain": [
       "' Digital Multi-meter and Oscilloscope Lab '"
      ]
     },
     "execution_count": 5,
     "metadata": {},
     "output_type": "execute_result"
    }
   ],
   "source": [
    "''' Digital Multi-meter and Oscilloscope Lab '''\n",
    "\n",
    "# This function calculates the resistor capacity\n"
   ]
  },
  {
   "cell_type": "code",
   "execution_count": null,
   "metadata": {},
   "outputs": [],
   "source": []
  },
  {
   "cell_type": "code",
   "execution_count": null,
   "metadata": {},
   "outputs": [],
   "source": []
  }
 ],
 "metadata": {
  "kernelspec": {
   "display_name": "Python 3",
   "language": "python",
   "name": "python3"
  },
  "language_info": {
   "codemirror_mode": {
    "name": "ipython",
    "version": 3
   },
   "file_extension": ".py",
   "mimetype": "text/x-python",
   "name": "python",
   "nbconvert_exporter": "python",
   "pygments_lexer": "ipython3",
   "version": "3.6.6"
  }
 },
 "nbformat": 4,
 "nbformat_minor": 2
}
