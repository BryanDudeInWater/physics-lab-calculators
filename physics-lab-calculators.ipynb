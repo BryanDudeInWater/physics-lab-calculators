{
 "cells": [
  {
   "cell_type": "code",
   "execution_count": null,
   "metadata": {},
   "outputs": [
    {
     "name": "stdout",
     "output_type": "stream",
     "text": [
      "$e^{i\\pi} + 1 = 0$\n"
     ]
    },
    {
     "data": {
      "text/markdown": [
       "some $\begin{equation}\f",
       "rac{\\left|x-y\r",
       "ight|}{y}\\end{equation}$"
      ],
      "text/plain": [
       "<IPython.core.display.Markdown object>"
      ]
     },
     "metadata": {},
     "output_type": "display_data"
    },
    {
     "name": "stdout",
     "output_type": "stream",
     "text": [
      "Choose the appropriate equation for the situation:\n",
      "1. Fractional Error\n",
      "2. Percent Error\n",
      "3. Percent Difference\n",
      "4. Standard Deviation\n"
     ]
    }
   ],
   "source": [
    "''' Discrepancy Calculator '''\n",
    "\n",
    "from IPython.display import Markdown, display\n",
    "\n",
    "print(\"$e^{i\\pi} + 1 = 0$\")\n",
    "m  = Markdown('some $\\begin{equation}\\frac{\\left|x-y\\right|}{y}\\end{equation}$')\n",
    "display(m)\n",
    "\n",
    "\n",
    "\n",
    "# This function calculates fractional error\n",
    "def fractionalError(expected, accepted):\n",
    "\n",
    "    return float(abs(float(expected) - float(accepted))/float(accepted))\n",
    "\n",
    "# This function calculates percent error\n",
    "\n",
    "# This function calculates percent difference\n",
    "\n",
    "# This function calculates standard deviation\n",
    "\n",
    "print(\"Choose the appropriate equation for the situation:\")\n",
    "print(\"1. Fractional Error\")\n",
    "print(\"2. Percent Error\")\n",
    "print(\"3. Percent Difference\")\n",
    "print(\"4. Standard Deviation\")\n",
    "\n",
    "option = input(\"Enter an option:\")\n",
    "\n",
    "if choice == '1':\n",
    "    exp = input(\"Enter expected value:\")\n",
    "    acpt = input(\"Enter accepted value:\")\n",
    "    print(fractionalError(exp, acpt))\n",
    "elif choice == '2':\n",
    "    print()\n",
    "elif choice == '3':\n",
    "    print()\n",
    "elif choice == '4':\n",
    "    print()\n",
    "else:\n",
    "    print(\"Invalid input\")"
   ]
  },
  {
   "cell_type": "code",
   "execution_count": null,
   "metadata": {},
   "outputs": [],
   "source": [
    "''' Digital Multi-meter and Oscilloscope Lab '''\n",
    "\n",
    "# This function calculates the resistor capacity\n"
   ]
  },
  {
   "cell_type": "code",
   "execution_count": null,
   "metadata": {},
   "outputs": [],
   "source": []
  },
  {
   "cell_type": "code",
   "execution_count": null,
   "metadata": {},
   "outputs": [],
   "source": []
  }
 ],
 "metadata": {
  "kernelspec": {
   "display_name": "Python 3",
   "language": "python",
   "name": "python3"
  },
  "language_info": {
   "codemirror_mode": {
    "name": "ipython",
    "version": 3
   },
   "file_extension": ".py",
   "mimetype": "text/x-python",
   "name": "python",
   "nbconvert_exporter": "python",
   "pygments_lexer": "ipython3",
   "version": "3.6.6"
  }
 },
 "nbformat": 4,
 "nbformat_minor": 2
}
